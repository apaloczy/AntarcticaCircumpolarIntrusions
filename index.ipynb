{
  "cells": [
    {
      "cell_type": "markdown",
      "source": [
        "# Supplementary materials for \"Oceanic heat delivery to the Antarctic continental shelf: Large-scale, low-frequency variability\"\n",
        "\n",
        "A. Palóczy*, S. T. Gille and Julie L. McClean\n",
        "\n",
        "Scripps Institution of Oceanography, University of California San Diego | *<apaloczy@ucsd.edu> |\n",
        "\n(submitted to Journal of Geophysical Research - Oceans)"
      ],
      "metadata": {}
    },
    {
      "cell_type": "markdown",
      "source": [
        "### Jupyter notebooks with manuscript figures\n",
        "---\n",
        "\n",
        "* [Figure 1](http://nbviewer.jupyter.org/github/apaloczy/AntarcticaCircumpolarIntrusions/blob/master/plot_figs/fig01/fig01.ipynb)\n",
        "* [Figure 2](http://nbviewer.jupyter.org/github/apaloczy/AntarcticaCircumpolarIntrusions/blob/master/plot_figs/fig02/fig02.ipynb)\n",
        "* [Figure 3](http://nbviewer.jupyter.org/github/apaloczy/AntarcticaCircumpolarIntrusions/blob/master/plot_figs/fig03/fig03.ipynb)\n",
        "* [Figures 4, S9 and S10](https://github.com/apaloczy/AntarcticaCircumpolarIntrusions/blob/master/plot_figs/figs04_S9_S10/figs04_S9_S10.ipynb)\n",
        "* [Figures 5, 6, 7, 9, 10 and S3-S8](https://github.com/apaloczy/AntarcticaCircumpolarIntrusions/blob/master/plot_figs/figs05-07_09-10_S3-S8/figs05-07_09-10_S3-S8.ipynb)\n",
        "* [Figure 8](https://github.com/apaloczy/AntarcticaCircumpolarIntrusions/blob/master/plot_figs/fig08/fig08.ipynb)\n"
      ],
      "metadata": {}
    }
  ],
  "metadata": {
    "kernel_info": {
      "name": "python3"
    },
    "language_info": {
      "name": "python",
      "version": "3.6.6",
      "mimetype": "text/x-python",
      "codemirror_mode": {
        "name": "ipython",
        "version": 3
      },
      "pygments_lexer": "ipython3",
      "nbconvert_exporter": "python",
      "file_extension": ".py"
    },
    "kernelspec": {
      "name": "python3",
      "language": "python",
      "display_name": "Python 3"
    },
    "nteract": {
      "version": "0.9.1"
    }
  },
  "nbformat": 4,
  "nbformat_minor": 4
}