{
  "cells": [
    {
      "cell_type": "markdown",
      "source": [
        "# Supplementary materials for \"Oceanic heat delivery to the Antarctic continental shelf: Large-scale, low-frequency variability\"\n",
        "\n",
        "A. Palóczy*, S. T. Gille and Julie L. McClean\n",
        "\n",
        "Scripps Institution of Oceanography, University of California San Diego | *<apaloczy@ucsd.edu> |\n",
        "\n(submitted to Journal of Geophysical Research - Oceans)"
      ],
      "metadata": {}
    },
    {
      "cell_type": "markdown",
      "source": [],
      "metadata": {}
    }
  ],
  "metadata": {
    "kernel_info": {
      "name": "python3"
    },
    "language_info": {
      "name": "python",
      "version": "3.6.6",
      "mimetype": "text/x-python",
      "codemirror_mode": {
        "name": "ipython",
        "version": 3
      },
      "pygments_lexer": "ipython3",
      "nbconvert_exporter": "python",
      "file_extension": ".py"
    },
    "kernelspec": {
      "name": "python3",
      "language": "python",
      "display_name": "Python 3"
    },
    "nteract": {
      "version": "0.9.1"
    }
  },
  "nbformat": 4,
  "nbformat_minor": 4
}