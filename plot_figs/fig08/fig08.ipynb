{
  "cells": [
    {
      "cell_type": "code",
      "source": [
        "# Description: Plot figure 8 (difference between composites of high and low SAM indices)\n",
        "#              -(a): Map of the difference between the ensemble averages of Tbot from\n",
        "#                    the 90th and the 10th percentiles of the annually-averaged SAM index.\n",
        "#              -(b): Same as panel (a), but for the Niño 3.4 index.\n",
        "#\n",
        "# Here, \"Tbot\" denotes the model potential temperature (referenced to 0 dbar)\n",
        "# at the grid cell closest to the bottom or closest to 1000 m depth, whichever\n",
        "# is shallower.\n",
        "#\n",
        "# Author:      André Palóczy\n",
        "# E-mail:      paloczy@gmail.com\n",
        "# Date:        January/2018\n",
        "\n",
        "import sys\n",
        "sys.path.append('../../misc')\n",
        "sys.path.append('../../data_reproduce_figs')\n",
        "sys.path.append('/home/andre/Dropbox/python-modules/pygamman')\n",
        "\n",
        "# import warnings\n",
        "# warnings.filterwarnings('ignore')\n",
        "\n",
        "import numpy as np\n",
        "import matplotlib.pyplot as plt\n",
        "\n",
        "def bmap_antarctica(ax, projection='spstere', bbox=[-180, 180, -77, -59], resolution='i'):\n",
        "    \"\"\"\n",
        "    Full Antartica basemap (Polar Stereographic Projection).\n",
        "    \"\"\"\n",
        "    kwm = dict(projection=projection, resolution=resolution, ax=ax)\n",
        "    if projection=='spstere':\n",
        "        kwm.update(dict(boundinglat=-60, lon_0=60))\n",
        "    else:\n",
        "        lol, lor, lal, lar = bbox\n",
        "        kwm.update(dict(llcrnrlon=lol, urcrnrlon=lor,\n",
        "        llcrnrlat=lal, urcrnrlat=lar, fix_aspect=False))\n",
        "\n",
        "    m = Basemap(**kwm)\n",
        "\n",
        "    m.drawmapboundary(zorder=-9999)\n",
        "    m.drawcoastlines(zorder=10, linewidth=0.5)\n",
        "    if projection=='spstere':\n",
        "        m.fillcontinents(color='0.9', zorder=9)\n",
        "        m.drawmeridians(np.arange(-180, 180, 45), linewidth=0.15, labels=[0, 1, 0, 1], zorder=12)\n",
        "    else:\n",
        "        m.drawmeridians(np.arange(-180, 180, 45), linewidth=0.15, labels=[0, 0, 0, 0], zorder=12)\n",
        "    m.drawparallels(np.arange(-90, -50, 5), linewidth=0.15, labels=[0, 0, 0, 0], zorder=12)\n",
        "\n    return m"
      ],
      "outputs": [],
      "execution_count": 1,
      "metadata": {
        "collapsed": false,
        "outputHidden": false,
        "inputHidden": false
      }
    },
    {
      "cell_type": "code",
      "source": [
        "plt.close('all')\n",
        "\n",
        "projection = 'spstere'\n",
        "figsize = (8.5, 11)\n",
        "fmt = 'png'\n",
        "kwsavefig = dict(fmt=fmt, dpi=150, bbox_inches='tight', pad_inches=0.0)\n",
        "\n",
        "SAM_percentile = 10\n",
        "NINO34_percentile = 10\n",
        "\n",
        "head = '../../data_reproduce_figs/'\n",
        "fpt = head + 'yearly_PT.npz'\n",
        "fname_isobs = head + 'isobaths.nc'"
      ],
      "outputs": [],
      "execution_count": 2,
      "metadata": {
        "collapsed": false,
        "outputHidden": false,
        "inputHidden": false
      }
    },
    {
      "cell_type": "code",
      "source": [
        "# Load isobaths.\n",
        "misob = 1000\n",
        "iisob, oisob = 800, 2500\n",
        "ncxm = Dataset(fname_isobs)\n",
        "xmisob = ncxm[\"%d m isobath (U-points)\"%misob]['xiso'][:]\n",
        "ymisob = ncxm[\"%d m isobath (U-points)\"%misob]['yiso'][:]\n",
        "xiisob = ncxm[\"%d m isobath (U-points)\"%iisob]['xiso'][:]\n",
        "yiisob = ncxm[\"%d m isobath (U-points)\"%iisob]['yiso'][:]\n",
        "xoisob = ncxm[\"%d m isobath (U-points)\"%oisob]['xiso'][:]\n",
        "yoisob = ncxm[\"%d m isobath (U-points)\"%oisob]['yiso'][:]"
      ],
      "outputs": [],
      "execution_count": null,
      "metadata": {
        "collapsed": false,
        "outputHidden": false,
        "inputHidden": false
      }
    },
    {
      "cell_type": "code",
      "source": [
        "# Load model potential temperature fields.\n",
        "d = np.load(fpt)\n",
        "xpt = d['lon']\n",
        "ypt = d['lat']\n",
        "zlevpt = 350#d['zlev']\n",
        "tmod = d['t'].tolist()\n",
        "pt = d['pt'] # [degC]."
      ],
      "outputs": [],
      "execution_count": null,
      "metadata": {
        "collapsed": false,
        "outputHidden": false,
        "inputHidden": false
      }
    },
    {
      "cell_type": "code",
      "source": [
        "# Calculate High SAM/Niño 3.4 and low SAM/Niño 3.4 ensemble averages.\n",
        "tmod = np.array(tmod)\n",
        "\n",
        "# SAM.\n",
        "SAM_percentile_upper = 100 - SAM_percentile\n",
        "lopercSAM = np.percentile(SAM, SAM_percentile)\n",
        "hipercSAM = np.percentile(SAM, SAM_percentile_upper)\n",
        "floSAM = SAM<=lopercSAM\n",
        "fhiSAM = SAM>=hipercSAM\n",
        "floSAM = floSAM.values\n",
        "fhiSAM = fhiSAM.values\n",
        "\n",
        "SAMlo = SAM[floSAM]\n",
        "SAMhi = SAM[fhiSAM]\n",
        "yearslo, yearshi = SAMlo['time.year'], SAMhi['time.year']\n",
        "loSAM = SAMlo.mean().values.flatten()[0]\n",
        "hiSAM = SAMhi.mean().values.flatten()[0]\n",
        "print(\"Mean high SAM = %.1f\"%hiSAM)\n",
        "print(\"Mean low SAM = %.1f\"%loSAM)\n",
        "yearsCORE = slp['TIME.year'].values.tolist()\n",
        "floCORE = np.array([yearCORE in yearslo.values for yearCORE in yearsCORE])\n",
        "fhiCORE = np.array([yearCORE in yearshi.values for yearCORE in yearsCORE])\n",
        "\n",
        "# Niño 3.4..\n",
        "NINO34_percentile_upper = 100 - NINO34_percentile\n",
        "lopercNINO34 = np.percentile(NINO34, NINO34_percentile)\n",
        "hipercNINO34 = np.percentile(NINO34, NINO34_percentile_upper)\n",
        "floNINO34 = NINO34<=lopercNINO34\n",
        "fhiNINO34 = NINO34>=hipercNINO34\n",
        "floNINO34 = floNINO34.values\n",
        "fhiNINO34 = fhiNINO34.values\n",
        "\n",
        "NINO34lo = NINO34[floNINO34]\n",
        "NINO34hi = NINO34[fhiNINO34]\n",
        "yearslo_nino34, yearshi_nino34 = NINO34lo['time.year'], NINO34hi['time.year']\n",
        "loNINO34 = NINO34lo.mean().values.flatten()[0]\n",
        "hiNINO34 = NINO34hi.mean().values.flatten()[0]\n",
        "print(\"Mean high Niño 3.4 = %.1f\"%hiNINO34)\n",
        "print(\"Mean low Niño 3.4 = %.1f\"%loNINO34)"
      ],
      "outputs": [
        {
          "output_type": "error",
          "ename": "NameError",
          "evalue": "name 'tmod' is not defined",
          "traceback": [
            "\u001b[0;31m---------------------------------------------------------------------------\u001b[0m",
            "\u001b[0;31mNameError\u001b[0m                                 Traceback (most recent call last)",
            "\u001b[0;32m<ipython-input-3-813c20cba8e1>\u001b[0m in \u001b[0;36m<module>\u001b[0;34m()\u001b[0m\n\u001b[1;32m      1\u001b[0m \u001b[0;31m# Calculate High SAM/Niño 3.4 and low SAM/Niño 3.4 ensemble averages.\u001b[0m\u001b[0;34m\u001b[0m\u001b[0;34m\u001b[0m\u001b[0m\n\u001b[0;32m----> 2\u001b[0;31m \u001b[0mtmod\u001b[0m \u001b[0;34m=\u001b[0m \u001b[0mnp\u001b[0m\u001b[0;34m.\u001b[0m\u001b[0marray\u001b[0m\u001b[0;34m(\u001b[0m\u001b[0mtmod\u001b[0m\u001b[0;34m)\u001b[0m\u001b[0;34m\u001b[0m\u001b[0m\n\u001b[0m\u001b[1;32m      3\u001b[0m \u001b[0;34m\u001b[0m\u001b[0m\n\u001b[1;32m      4\u001b[0m \u001b[0;31m# SAM.\u001b[0m\u001b[0;34m\u001b[0m\u001b[0;34m\u001b[0m\u001b[0m\n\u001b[1;32m      5\u001b[0m \u001b[0mSAM_percentile_upper\u001b[0m \u001b[0;34m=\u001b[0m \u001b[0;36m100\u001b[0m \u001b[0;34m-\u001b[0m \u001b[0mSAM_percentile\u001b[0m\u001b[0;34m\u001b[0m\u001b[0m\n",
            "\u001b[0;31mNameError\u001b[0m: name 'tmod' is not defined"
          ]
        }
      ],
      "execution_count": 3,
      "metadata": {
        "collapsed": false,
        "outputHidden": false,
        "inputHidden": false
      }
    },
    {
      "cell_type": "code",
      "source": [
        "\n",
        "loSAMpt = np.nanmean(pt[floMOD, ...], axis=0)\n",
        "hiSAMpt = np.nanmean(pt[fhiMOD, ...], axis=0)\n",
        "loNINO34pt = np.nanmean(pt[floMOD_NINO34, ...], axis=0)\n",
        "hiNINO34pt = np.nanmean(pt[fhiMOD_NINO34, ...], axis=0)"
      ],
      "outputs": [],
      "execution_count": null,
      "metadata": {
        "collapsed": false,
        "outputHidden": false,
        "inputHidden": false
      }
    }
  ],
  "metadata": {
    "kernel_info": {
      "name": "python3"
    },
    "language_info": {
      "name": "python",
      "version": "3.6.6",
      "mimetype": "text/x-python",
      "codemirror_mode": {
        "name": "ipython",
        "version": 3
      },
      "pygments_lexer": "ipython3",
      "nbconvert_exporter": "python",
      "file_extension": ".py"
    },
    "kernelspec": {
      "name": "python3",
      "language": "python",
      "display_name": "Python 3"
    },
    "nteract": {
      "version": "0.9.1"
    }
  },
  "nbformat": 4,
  "nbformat_minor": 4
}